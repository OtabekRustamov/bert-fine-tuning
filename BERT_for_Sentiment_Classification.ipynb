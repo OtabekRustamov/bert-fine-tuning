{
 "cells": [
  {
   "cell_type": "code",
   "execution_count": 1,
   "id": "46bcc7ff-ad69-42bd-b310-7600bc68fceb",
   "metadata": {},
   "outputs": [],
   "source": [
    "from transformers import BertModel\n",
    "from transformers import BertTokenizer\n",
    "import torch\n",
    "\n",
    "bert = BertModel.from_pretrained(\"bert-base-uncased\")"
   ]
  },
  {
   "cell_type": "code",
   "execution_count": 2,
   "id": "fd90914b-3b7d-4e97-a6f3-33498c80ad68",
   "metadata": {},
   "outputs": [],
   "source": [
    "tokenizer = BertTokenizer.from_pretrained('bert-base-uncased')"
   ]
  },
  {
   "cell_type": "code",
   "execution_count": 3,
   "id": "f37c4e30-d05b-4836-a052-29cdd9d98a0e",
   "metadata": {},
   "outputs": [
    {
     "name": "stdout",
     "output_type": "stream",
     "text": [
      "Integer Sequence: [101, 17463, 10497, 1996, 19204, 2000, 1996, 2707, 1997, 1996, 5537, 102, 0, 0, 0]\n",
      "Tokenized Text: ['[CLS]', 'prep', '##end', 'the', 'token', 'to', 'the', 'start', 'of', 'the', 'sequence', '[SEP]', '[PAD]', '[PAD]', '[PAD]']\n"
     ]
    },
    {
     "name": "stderr",
     "output_type": "stream",
     "text": [
      "C:\\Users\\amber\\anaconda3\\envs\\transformer\\lib\\site-packages\\transformers\\tokenization_utils_base.py:2699: FutureWarning: The `pad_to_max_length` argument is deprecated and will be removed in a future version, use `padding=True` or `padding='longest'` to pad to the longest sequence in the batch, or use `padding='max_length'` to pad to a max length. In this case, you can give a specific length with `max_length` (e.g. `max_length=45`) or leave max_length to None to pad to the maximal input size of the model (e.g. 512 for Bert).\n",
      "  warnings.warn(\n"
     ]
    }
   ],
   "source": [
    "# input text\n",
    "\n",
    "text = \"Prepend the token to the start of the sequence\"\n",
    "sent_id = tokenizer.encode(text,\n",
    "                          #  add [CLS] and [SEP] tokens\n",
    "                          add_special_tokens=True,\n",
    "                          # specify maximum length for the sequences\n",
    "                          max_length=15,\n",
    "                          truncation=True,\n",
    "                          # add pad tokens to the right side of the sequence\n",
    "                          pad_to_max_length='right')\n",
    "\n",
    "# print integer sequence\n",
    "print(\"Integer Sequence: {}\".format(sent_id))\n",
    "# convert integers back to text\n",
    "print(\"Tokenized Text:\",tokenizer.convert_ids_to_tokens(sent_id))"
   ]
  },
  {
   "cell_type": "code",
   "execution_count": 4,
   "id": "d0aa0a95-8993-4558-9a42-7d10ffe1437e",
   "metadata": {},
   "outputs": [
    {
     "name": "stdout",
     "output_type": "stream",
     "text": [
      "Decoded String: [CLS] prepend the token to the start of the sequence [SEP] [PAD] [PAD] [PAD]\n",
      "Attention Mask: [1, 1, 1, 1, 1, 1, 1, 1, 1, 1, 1, 1, 0, 0, 0]\n"
     ]
    }
   ],
   "source": [
    "decoded = tokenizer.decode(sent_id)\n",
    "print(\"Decoded String: {}\".format(decoded))\n",
    "\n",
    "att_mask = [int(tok > 0) for tok in sent_id]\n",
    "print(\"Attention Mask:\",att_mask)"
   ]
  },
  {
   "cell_type": "code",
   "execution_count": 5,
   "id": "f9a88bb7-aeb0-41e5-9c2d-1831e4cfed19",
   "metadata": {},
   "outputs": [
    {
     "data": {
      "text/plain": [
       "tensor([[  101, 17463, 10497,  1996, 19204,  2000,  1996,  2707,  1997,  1996,\n",
       "          5537,   102,     0,     0,     0]])"
      ]
     },
     "execution_count": 5,
     "metadata": {},
     "output_type": "execute_result"
    }
   ],
   "source": [
    "# convert lists to tensors\n",
    "sent_id = torch.tensor(sent_id)\n",
    "att_mask = torch.tensor(att_mask)\n",
    "\n",
    "# reshaping tensor in form of (batch,text length)\n",
    "sent_id = sent_id.unsqueeze(0)\n",
    "att_mask = att_mask.unsqueeze(0)\n",
    "sent_id"
   ]
  },
  {
   "cell_type": "code",
   "execution_count": 6,
   "id": "1c6c00db-3d01-40fa-a6d0-3e1002860b62",
   "metadata": {},
   "outputs": [],
   "source": [
    "outputs = bert(sent_id,attention_mask = att_mask)"
   ]
  },
  {
   "cell_type": "code",
   "execution_count": 7,
   "id": "586f203c-0907-4090-8069-7d9fca8f8815",
   "metadata": {},
   "outputs": [
    {
     "name": "stdout",
     "output_type": "stream",
     "text": [
      "Shape of last hidden states: torch.Size([1, 15, 768])\n",
      "Shape of CLS hidden state: torch.Size([1, 768])\n"
     ]
    }
   ],
   "source": [
    "#unpack the ouput of bert model\n",
    "# hidden states at each timestep\n",
    "all_hidden_states = outputs[0]\n",
    "# hidden states at first timestep ([CLS] token)\n",
    "cls_hidden_state = outputs[1]\n",
    "print(\"Shape of last hidden states:\",all_hidden_states.shape)\n",
    "print(\"Shape of CLS hidden state:\",cls_hidden_state.shape)"
   ]
  },
  {
   "cell_type": "code",
   "execution_count": null,
   "id": "49f8a735-6a0e-41af-9421-f9ba57a7f4dc",
   "metadata": {},
   "outputs": [],
   "source": []
  },
  {
   "cell_type": "markdown",
   "id": "930cba32-d134-4a92-ab32-d37bc528bbff",
   "metadata": {},
   "source": [
    "## IMDB Sentiment Classification\n",
    "\n",
    "This is a dataset for binary sentiment classification, where each example contains a movie review along with its positive or negative sentiment label.\n",
    "bert-base-uncased is one of the pre-trained models from the BERT (Bidirectional Encoder Representations from Transformers) family of models developed by Google AI. It is a widely used variant of BERT and has been pre-trained on a massive amount of text data, including a mixture of books, articles, and web pages.\n",
    "\n",
    "Note that different BERT model variants may have different maximum sequence lengths, so be sure to understand which max_length you are working with. Generally, max_length = 512 is the default for BERT models.\n",
    "\n",
    "In this example we fine-tune ALL the parameters of BERT. Notice in cell 14, we pass model.parameters() to the optimizer, where the model.parameters() call includes all the trainable parameters in the BertForSequenceClassification model, which includes the BERT base model along with the classification head specific to our task."
   ]
  },
  {
   "cell_type": "code",
   "execution_count": 8,
   "id": "b90779b5-ec24-479d-85a0-f565b53f75fa",
   "metadata": {},
   "outputs": [],
   "source": [
    "import pandas as pd\n",
    "from sklearn.model_selection import train_test_split\n",
    "from tqdm import tqdm\n",
    "\n",
    "\n",
    "import torch\n",
    "import torch.nn as nn\n",
    "from torch.utils.data import DataLoader, TensorDataset\n",
    "from transformers import BertConfig, BertForSequenceClassification, BertTokenizer"
   ]
  },
  {
   "cell_type": "code",
   "execution_count": 9,
   "id": "1634aef5-d07b-41f7-8192-7eaa10b1500c",
   "metadata": {},
   "outputs": [],
   "source": [
    "device = torch.device(\"cuda\" if torch.cuda.is_available() else \"cpu\")"
   ]
  },
  {
   "cell_type": "code",
   "execution_count": 10,
   "id": "f2348a0c-a1df-4d45-98c3-94848a9eb797",
   "metadata": {},
   "outputs": [
    {
     "data": {
      "text/html": [
       "<div>\n",
       "<style scoped>\n",
       "    .dataframe tbody tr th:only-of-type {\n",
       "        vertical-align: middle;\n",
       "    }\n",
       "\n",
       "    .dataframe tbody tr th {\n",
       "        vertical-align: top;\n",
       "    }\n",
       "\n",
       "    .dataframe thead th {\n",
       "        text-align: right;\n",
       "    }\n",
       "</style>\n",
       "<table border=\"1\" class=\"dataframe\">\n",
       "  <thead>\n",
       "    <tr style=\"text-align: right;\">\n",
       "      <th></th>\n",
       "      <th>review</th>\n",
       "      <th>sentiment</th>\n",
       "    </tr>\n",
       "  </thead>\n",
       "  <tbody>\n",
       "    <tr>\n",
       "      <th>0</th>\n",
       "      <td>One of the other reviewers has mentioned that ...</td>\n",
       "      <td>positive</td>\n",
       "    </tr>\n",
       "    <tr>\n",
       "      <th>1</th>\n",
       "      <td>A wonderful little production. &lt;br /&gt;&lt;br /&gt;The...</td>\n",
       "      <td>positive</td>\n",
       "    </tr>\n",
       "    <tr>\n",
       "      <th>2</th>\n",
       "      <td>I thought this was a wonderful way to spend ti...</td>\n",
       "      <td>positive</td>\n",
       "    </tr>\n",
       "    <tr>\n",
       "      <th>3</th>\n",
       "      <td>Basically there's a family where a little boy ...</td>\n",
       "      <td>negative</td>\n",
       "    </tr>\n",
       "    <tr>\n",
       "      <th>4</th>\n",
       "      <td>Petter Mattei's \"Love in the Time of Money\" is...</td>\n",
       "      <td>positive</td>\n",
       "    </tr>\n",
       "    <tr>\n",
       "      <th>5</th>\n",
       "      <td>Probably my all-time favorite movie, a story o...</td>\n",
       "      <td>positive</td>\n",
       "    </tr>\n",
       "    <tr>\n",
       "      <th>6</th>\n",
       "      <td>I sure would like to see a resurrection of a u...</td>\n",
       "      <td>positive</td>\n",
       "    </tr>\n",
       "    <tr>\n",
       "      <th>7</th>\n",
       "      <td>This show was an amazing, fresh &amp; innovative i...</td>\n",
       "      <td>negative</td>\n",
       "    </tr>\n",
       "    <tr>\n",
       "      <th>8</th>\n",
       "      <td>Encouraged by the positive comments about this...</td>\n",
       "      <td>negative</td>\n",
       "    </tr>\n",
       "    <tr>\n",
       "      <th>9</th>\n",
       "      <td>If you like original gut wrenching laughter yo...</td>\n",
       "      <td>positive</td>\n",
       "    </tr>\n",
       "  </tbody>\n",
       "</table>\n",
       "</div>"
      ],
      "text/plain": [
       "                                              review sentiment\n",
       "0  One of the other reviewers has mentioned that ...  positive\n",
       "1  A wonderful little production. <br /><br />The...  positive\n",
       "2  I thought this was a wonderful way to spend ti...  positive\n",
       "3  Basically there's a family where a little boy ...  negative\n",
       "4  Petter Mattei's \"Love in the Time of Money\" is...  positive\n",
       "5  Probably my all-time favorite movie, a story o...  positive\n",
       "6  I sure would like to see a resurrection of a u...  positive\n",
       "7  This show was an amazing, fresh & innovative i...  negative\n",
       "8  Encouraged by the positive comments about this...  negative\n",
       "9  If you like original gut wrenching laughter yo...  positive"
      ]
     },
     "execution_count": 10,
     "metadata": {},
     "output_type": "execute_result"
    }
   ],
   "source": [
    "import pandas as pd\n",
    "df = pd.read_csv('IMDB Dataset.csv')\n",
    "df.head(10)"
   ]
  },
  {
   "cell_type": "code",
   "execution_count": 11,
   "id": "bd32a7e9-1149-4d04-81bc-87e74e7f03a5",
   "metadata": {},
   "outputs": [
    {
     "data": {
      "text/plain": [
       "sentiment\n",
       "positive    25000\n",
       "negative    25000\n",
       "Name: count, dtype: int64"
      ]
     },
     "execution_count": 11,
     "metadata": {},
     "output_type": "execute_result"
    }
   ],
   "source": [
    "df['sentiment'].value_counts()"
   ]
  },
  {
   "cell_type": "markdown",
   "id": "80802576-8d96-4582-a4a7-2efc0b46f5aa",
   "metadata": {},
   "source": [
    "### Load BERT tokenizer and model"
   ]
  },
  {
   "cell_type": "code",
   "execution_count": 12,
   "id": "4a3c2d79-3d2a-4d17-b79f-f53aab9889e4",
   "metadata": {},
   "outputs": [
    {
     "name": "stderr",
     "output_type": "stream",
     "text": [
      "Some weights of BertForSequenceClassification were not initialized from the model checkpoint at bert-base-uncased and are newly initialized: ['classifier.bias', 'classifier.weight']\n",
      "You should probably TRAIN this model on a down-stream task to be able to use it for predictions and inference.\n"
     ]
    }
   ],
   "source": [
    "model_name = \"bert-base-uncased\"\n",
    "tokenizer = BertTokenizer.from_pretrained(model_name)\n",
    "model = BertForSequenceClassification.from_pretrained(model_name, num_labels=2)"
   ]
  },
  {
   "cell_type": "code",
   "execution_count": 13,
   "id": "9fea5e25-47db-4edf-9860-36be64cbbd1f",
   "metadata": {},
   "outputs": [
    {
     "name": "stdout",
     "output_type": "stream",
     "text": [
      "BertForSequenceClassification(\n",
      "  (bert): BertModel(\n",
      "    (embeddings): BertEmbeddings(\n",
      "      (word_embeddings): Embedding(30522, 768, padding_idx=0)\n",
      "      (position_embeddings): Embedding(512, 768)\n",
      "      (token_type_embeddings): Embedding(2, 768)\n",
      "      (LayerNorm): LayerNorm((768,), eps=1e-12, elementwise_affine=True)\n",
      "      (dropout): Dropout(p=0.1, inplace=False)\n",
      "    )\n",
      "    (encoder): BertEncoder(\n",
      "      (layer): ModuleList(\n",
      "        (0-11): 12 x BertLayer(\n",
      "          (attention): BertAttention(\n",
      "            (self): BertSdpaSelfAttention(\n",
      "              (query): Linear(in_features=768, out_features=768, bias=True)\n",
      "              (key): Linear(in_features=768, out_features=768, bias=True)\n",
      "              (value): Linear(in_features=768, out_features=768, bias=True)\n",
      "              (dropout): Dropout(p=0.1, inplace=False)\n",
      "            )\n",
      "            (output): BertSelfOutput(\n",
      "              (dense): Linear(in_features=768, out_features=768, bias=True)\n",
      "              (LayerNorm): LayerNorm((768,), eps=1e-12, elementwise_affine=True)\n",
      "              (dropout): Dropout(p=0.1, inplace=False)\n",
      "            )\n",
      "          )\n",
      "          (intermediate): BertIntermediate(\n",
      "            (dense): Linear(in_features=768, out_features=3072, bias=True)\n",
      "            (intermediate_act_fn): GELUActivation()\n",
      "          )\n",
      "          (output): BertOutput(\n",
      "            (dense): Linear(in_features=3072, out_features=768, bias=True)\n",
      "            (LayerNorm): LayerNorm((768,), eps=1e-12, elementwise_affine=True)\n",
      "            (dropout): Dropout(p=0.1, inplace=False)\n",
      "          )\n",
      "        )\n",
      "      )\n",
      "    )\n",
      "    (pooler): BertPooler(\n",
      "      (dense): Linear(in_features=768, out_features=768, bias=True)\n",
      "      (activation): Tanh()\n",
      "    )\n",
      "  )\n",
      "  (dropout): Dropout(p=0.1, inplace=False)\n",
      "  (classifier): Linear(in_features=768, out_features=2, bias=True)\n",
      ")\n"
     ]
    }
   ],
   "source": [
    "# Inspect model config\n",
    "print(model)"
   ]
  },
  {
   "cell_type": "code",
   "execution_count": 14,
   "id": "d3847972-f6a3-4fe3-bd74-7abc8bcea76c",
   "metadata": {},
   "outputs": [
    {
     "data": {
      "text/plain": [
       "512"
      ]
     },
     "execution_count": 14,
     "metadata": {},
     "output_type": "execute_result"
    }
   ],
   "source": [
    "# Inspect the maximum sequence length\n",
    "tokenizer.model_max_length"
   ]
  },
  {
   "cell_type": "markdown",
   "id": "0b2f7958-dda9-4115-ba82-db869b91fb53",
   "metadata": {},
   "source": [
    "## Tokenize sentiments\n",
    "Converts the 'review' column to a list.\n",
    "Tokenizes and encodes the reviews in batches.\n",
    "Adds the input_ids and attention_mask as new columns in the DataFrame.\n",
    "Converts the 'sentiment' column to a binary format."
   ]
  },
  {
   "cell_type": "code",
   "execution_count": 15,
   "id": "e63c7a61-9af7-4f1a-ae81-10f5ed8abac4",
   "metadata": {},
   "outputs": [
    {
     "data": {
      "text/html": [
       "<div>\n",
       "<style scoped>\n",
       "    .dataframe tbody tr th:only-of-type {\n",
       "        vertical-align: middle;\n",
       "    }\n",
       "\n",
       "    .dataframe tbody tr th {\n",
       "        vertical-align: top;\n",
       "    }\n",
       "\n",
       "    .dataframe thead th {\n",
       "        text-align: right;\n",
       "    }\n",
       "</style>\n",
       "<table border=\"1\" class=\"dataframe\">\n",
       "  <thead>\n",
       "    <tr style=\"text-align: right;\">\n",
       "      <th></th>\n",
       "      <th>review</th>\n",
       "      <th>sentiment</th>\n",
       "      <th>input_ids</th>\n",
       "      <th>attention_mask</th>\n",
       "      <th>sentiment_bool</th>\n",
       "    </tr>\n",
       "  </thead>\n",
       "  <tbody>\n",
       "    <tr>\n",
       "      <th>0</th>\n",
       "      <td>One of the other reviewers has mentioned that ...</td>\n",
       "      <td>positive</td>\n",
       "      <td>[101, 2028, 1997, 1996, 2060, 15814, 2038, 385...</td>\n",
       "      <td>[1, 1, 1, 1, 1, 1, 1, 1, 1, 1, 1, 1, 1, 1, 1, ...</td>\n",
       "      <td>1</td>\n",
       "    </tr>\n",
       "    <tr>\n",
       "      <th>1</th>\n",
       "      <td>A wonderful little production. &lt;br /&gt;&lt;br /&gt;The...</td>\n",
       "      <td>positive</td>\n",
       "      <td>[101, 1037, 6919, 2210, 2537, 1012, 1026, 7987...</td>\n",
       "      <td>[1, 1, 1, 1, 1, 1, 1, 1, 1, 1, 1, 1, 1, 1, 1, ...</td>\n",
       "      <td>1</td>\n",
       "    </tr>\n",
       "    <tr>\n",
       "      <th>2</th>\n",
       "      <td>I thought this was a wonderful way to spend ti...</td>\n",
       "      <td>positive</td>\n",
       "      <td>[101, 1045, 2245, 2023, 2001, 1037, 6919, 2126...</td>\n",
       "      <td>[1, 1, 1, 1, 1, 1, 1, 1, 1, 1, 1, 1, 1, 1, 1, ...</td>\n",
       "      <td>1</td>\n",
       "    </tr>\n",
       "    <tr>\n",
       "      <th>3</th>\n",
       "      <td>Basically there's a family where a little boy ...</td>\n",
       "      <td>negative</td>\n",
       "      <td>[101, 10468, 2045, 1005, 1055, 1037, 2155, 207...</td>\n",
       "      <td>[1, 1, 1, 1, 1, 1, 1, 1, 1, 1, 1, 1, 1, 1, 1, ...</td>\n",
       "      <td>0</td>\n",
       "    </tr>\n",
       "    <tr>\n",
       "      <th>4</th>\n",
       "      <td>Petter Mattei's \"Love in the Time of Money\" is...</td>\n",
       "      <td>positive</td>\n",
       "      <td>[101, 9004, 3334, 4717, 7416, 1005, 1055, 1000...</td>\n",
       "      <td>[1, 1, 1, 1, 1, 1, 1, 1, 1, 1, 1, 1, 1, 1, 1, ...</td>\n",
       "      <td>1</td>\n",
       "    </tr>\n",
       "    <tr>\n",
       "      <th>5</th>\n",
       "      <td>Probably my all-time favorite movie, a story o...</td>\n",
       "      <td>positive</td>\n",
       "      <td>[101, 2763, 2026, 2035, 1011, 2051, 5440, 3185...</td>\n",
       "      <td>[1, 1, 1, 1, 1, 1, 1, 1, 1, 1, 1, 1, 1, 1, 1, ...</td>\n",
       "      <td>1</td>\n",
       "    </tr>\n",
       "    <tr>\n",
       "      <th>6</th>\n",
       "      <td>I sure would like to see a resurrection of a u...</td>\n",
       "      <td>positive</td>\n",
       "      <td>[101, 1045, 2469, 2052, 2066, 2000, 2156, 1037...</td>\n",
       "      <td>[1, 1, 1, 1, 1, 1, 1, 1, 1, 1, 1, 1, 1, 1, 1, ...</td>\n",
       "      <td>1</td>\n",
       "    </tr>\n",
       "    <tr>\n",
       "      <th>7</th>\n",
       "      <td>This show was an amazing, fresh &amp; innovative i...</td>\n",
       "      <td>negative</td>\n",
       "      <td>[101, 2023, 2265, 2001, 2019, 6429, 1010, 4840...</td>\n",
       "      <td>[1, 1, 1, 1, 1, 1, 1, 1, 1, 1, 1, 1, 1, 1, 1, ...</td>\n",
       "      <td>0</td>\n",
       "    </tr>\n",
       "    <tr>\n",
       "      <th>8</th>\n",
       "      <td>Encouraged by the positive comments about this...</td>\n",
       "      <td>negative</td>\n",
       "      <td>[101, 6628, 2011, 1996, 3893, 7928, 2055, 2023...</td>\n",
       "      <td>[1, 1, 1, 1, 1, 1, 1, 1, 1, 1, 1, 1, 1, 1, 1, ...</td>\n",
       "      <td>0</td>\n",
       "    </tr>\n",
       "    <tr>\n",
       "      <th>9</th>\n",
       "      <td>If you like original gut wrenching laughter yo...</td>\n",
       "      <td>positive</td>\n",
       "      <td>[101, 2065, 2017, 2066, 2434, 9535, 16255, 845...</td>\n",
       "      <td>[1, 1, 1, 1, 1, 1, 1, 1, 1, 1, 1, 1, 1, 1, 1, ...</td>\n",
       "      <td>1</td>\n",
       "    </tr>\n",
       "  </tbody>\n",
       "</table>\n",
       "</div>"
      ],
      "text/plain": [
       "                                              review sentiment  \\\n",
       "0  One of the other reviewers has mentioned that ...  positive   \n",
       "1  A wonderful little production. <br /><br />The...  positive   \n",
       "2  I thought this was a wonderful way to spend ti...  positive   \n",
       "3  Basically there's a family where a little boy ...  negative   \n",
       "4  Petter Mattei's \"Love in the Time of Money\" is...  positive   \n",
       "5  Probably my all-time favorite movie, a story o...  positive   \n",
       "6  I sure would like to see a resurrection of a u...  positive   \n",
       "7  This show was an amazing, fresh & innovative i...  negative   \n",
       "8  Encouraged by the positive comments about this...  negative   \n",
       "9  If you like original gut wrenching laughter yo...  positive   \n",
       "\n",
       "                                           input_ids  \\\n",
       "0  [101, 2028, 1997, 1996, 2060, 15814, 2038, 385...   \n",
       "1  [101, 1037, 6919, 2210, 2537, 1012, 1026, 7987...   \n",
       "2  [101, 1045, 2245, 2023, 2001, 1037, 6919, 2126...   \n",
       "3  [101, 10468, 2045, 1005, 1055, 1037, 2155, 207...   \n",
       "4  [101, 9004, 3334, 4717, 7416, 1005, 1055, 1000...   \n",
       "5  [101, 2763, 2026, 2035, 1011, 2051, 5440, 3185...   \n",
       "6  [101, 1045, 2469, 2052, 2066, 2000, 2156, 1037...   \n",
       "7  [101, 2023, 2265, 2001, 2019, 6429, 1010, 4840...   \n",
       "8  [101, 6628, 2011, 1996, 3893, 7928, 2055, 2023...   \n",
       "9  [101, 2065, 2017, 2066, 2434, 9535, 16255, 845...   \n",
       "\n",
       "                                      attention_mask  sentiment_bool  \n",
       "0  [1, 1, 1, 1, 1, 1, 1, 1, 1, 1, 1, 1, 1, 1, 1, ...               1  \n",
       "1  [1, 1, 1, 1, 1, 1, 1, 1, 1, 1, 1, 1, 1, 1, 1, ...               1  \n",
       "2  [1, 1, 1, 1, 1, 1, 1, 1, 1, 1, 1, 1, 1, 1, 1, ...               1  \n",
       "3  [1, 1, 1, 1, 1, 1, 1, 1, 1, 1, 1, 1, 1, 1, 1, ...               0  \n",
       "4  [1, 1, 1, 1, 1, 1, 1, 1, 1, 1, 1, 1, 1, 1, 1, ...               1  \n",
       "5  [1, 1, 1, 1, 1, 1, 1, 1, 1, 1, 1, 1, 1, 1, 1, ...               1  \n",
       "6  [1, 1, 1, 1, 1, 1, 1, 1, 1, 1, 1, 1, 1, 1, 1, ...               1  \n",
       "7  [1, 1, 1, 1, 1, 1, 1, 1, 1, 1, 1, 1, 1, 1, 1, ...               0  \n",
       "8  [1, 1, 1, 1, 1, 1, 1, 1, 1, 1, 1, 1, 1, 1, 1, ...               0  \n",
       "9  [1, 1, 1, 1, 1, 1, 1, 1, 1, 1, 1, 1, 1, 1, 1, ...               1  "
      ]
     },
     "execution_count": 15,
     "metadata": {},
     "output_type": "execute_result"
    }
   ],
   "source": [
    "# Batch Tokenization and Encoding Function:\n",
    "def batch_tokenize_and_encode(texts, max_length = 256):\n",
    "    encoding = tokenizer.batch_encode_plus(\n",
    "        texts,\n",
    "        add_special_tokens=True,\n",
    "        truncation=True,\n",
    "        padding='max_length',\n",
    "        max_length=max_length,\n",
    "        return_attention_mask=True,\n",
    "        return_tensors='np'\n",
    "    )\n",
    "    return encoding['input_ids'], encoding['attention_mask']\n",
    "\n",
    "# Sentiment Conversion Function:\n",
    "def sentiment_to_bool(sentiment):\n",
    "    return 1 if sentiment == 'positive' else 0\n",
    "\n",
    "\n",
    "# <<=======================================>>\n",
    "# Main Processing Function:\n",
    "def process_dataframe(df):\n",
    "    reviews = df['review'].tolist()\n",
    "    input_ids, attention_masks = batch_tokenize_and_encode(reviews)\n",
    "    df['input_ids'] = list(input_ids)\n",
    "    df['attention_mask'] = list(attention_masks)\n",
    "    df['sentiment_bool'] = df['sentiment'].apply(sentiment_to_bool)\n",
    "    return df\n",
    "    \n",
    "tqdm.pandas()\n",
    "df = process_dataframe(df)\n",
    "df.head(10)    "
   ]
  },
  {
   "cell_type": "markdown",
   "id": "86f7236d-9646-46aa-a468-24c596f81dad",
   "metadata": {},
   "source": [
    "### Train / Validate / Test split"
   ]
  },
  {
   "cell_type": "code",
   "execution_count": 16,
   "id": "894e59f5-b8db-4094-9c10-be779127cf50",
   "metadata": {},
   "outputs": [],
   "source": [
    "train_df, temp_df = train_test_split(df,test_size=0.2, random_state=42)\n",
    "val_df, test_df = train_test_split(temp_df, test_size=0.5, random_state=42)"
   ]
  },
  {
   "cell_type": "markdown",
   "id": "68e2e615-4dd0-40c1-b735-bc250a03990f",
   "metadata": {},
   "source": [
    "### Convert data to PyTorch tensors"
   ]
  },
  {
   "cell_type": "code",
   "execution_count": 17,
   "id": "7b511033-48c6-443b-994e-b2a1147160ca",
   "metadata": {},
   "outputs": [],
   "source": [
    "import numpy as np\n",
    "def convert_to_tensors(df):\n",
    "    input_ids = torch.tensor(np.array(df['input_ids'].tolist()))\n",
    "    attention_masks = torch.tensor(np.array(df['attention_mask'].tolist()))\n",
    "    labels = torch.tensor(df['sentiment_bool'].values)\n",
    "    return input_ids, attention_masks, labels\n",
    "\n",
    "train_input_ids, train_attention_masks, train_labels = convert_to_tensors(train_df)\n",
    "val_input_ids, val_attention_masks, val_labels = convert_to_tensors(val_df)\n",
    "test_input_ids, test_attention_masks, test_labels = convert_to_tensors(test_df)"
   ]
  },
  {
   "cell_type": "markdown",
   "id": "c4e04233-c3f3-4888-a961-816194167b38",
   "metadata": {},
   "source": [
    "### Create DataLoader for efficient batch processing\n",
    "\n",
    "When a DataLoader is created with shuffle=True, it shuffles the data once at the beginning when the DataLoader is created for that epoch. So, within a single epoch, the order of batches remains the same, but when a new epoch is started, the data is shuffled again, leading to a different order of examples for each epoch. This is a common practice in training deep learning models to ensure that the model doesn't memorize the order of examples and generalizes well across different batches and epochs."
   ]
  },
  {
   "cell_type": "code",
   "execution_count": 18,
   "id": "d8e77448-afa6-415f-b0dc-7594ef23878f",
   "metadata": {},
   "outputs": [],
   "source": [
    "train_dataset = TensorDataset(train_input_ids, train_attention_masks, train_labels)\n",
    "val_dataset = TensorDataset(val_input_ids, val_attention_masks, val_labels)\n",
    "test_dataset = TensorDataset(test_input_ids, test_attention_masks, test_labels)"
   ]
  },
  {
   "cell_type": "code",
   "execution_count": 19,
   "id": "48bbe18b-23aa-4f5e-ab76-bca8f6c28431",
   "metadata": {},
   "outputs": [],
   "source": [
    "batch_size = 16\n",
    "train_loader = DataLoader(train_dataset, batch_size=batch_size, shuffle=True)\n",
    "val_loader = DataLoader(val_dataset, batch_size=batch_size,shuffle=True)\n",
    "test_loader = DataLoader(test_dataset, batch_size=batch_size, shuffle=True)"
   ]
  },
  {
   "cell_type": "markdown",
   "id": "c8e52795-e236-44ab-ab81-ca0bee1b448b",
   "metadata": {},
   "source": [
    "### Define optimizer and loss function"
   ]
  },
  {
   "cell_type": "code",
   "execution_count": 20,
   "id": "e211ffdd-ea99-452a-a4e4-752854f3cc2e",
   "metadata": {},
   "outputs": [
    {
     "name": "stderr",
     "output_type": "stream",
     "text": [
      "Some weights of BertForSequenceClassification were not initialized from the model checkpoint at bert-base-uncased and are newly initialized: ['classifier.bias', 'classifier.weight']\n",
      "You should probably TRAIN this model on a down-stream task to be able to use it for predictions and inference.\n",
      "C:\\Users\\amber\\anaconda3\\envs\\transformer\\lib\\site-packages\\transformers\\optimization.py:588: FutureWarning: This implementation of AdamW is deprecated and will be removed in a future version. Use the PyTorch implementation torch.optim.AdamW instead, or set `no_deprecation_warning=True` to disable this warning\n",
      "  warnings.warn(\n"
     ]
    }
   ],
   "source": [
    "from transformers import AdamW\n",
    "\n",
    "# store during forward passes. \n",
    "model = BertForSequenceClassification.from_pretrained(model_name, num_labels = 2, \n",
    "                                                      output_attentions = False, \n",
    "                                                      output_hidden_states = False)\n",
    "\n",
    "model = model.to(device)\n",
    "\n",
    "# Define optimizer and scheduler using PyTorch's AdamW\n",
    "optimizer = AdamW(model.parameters(), lr=2e-5, eps=1e-8)\n",
    "criterion = nn.CrossEntropyLoss()"
   ]
  },
  {
   "cell_type": "markdown",
   "id": "e885d4ae-7e55-40e2-9e43-91f99f9a8e73",
   "metadata": {},
   "source": [
    "### Model training and validation"
   ]
  },
  {
   "cell_type": "code",
   "execution_count": 25,
   "id": "6413ec6a-f6a5-4695-bbe6-cf55dfab9dfd",
   "metadata": {},
   "outputs": [],
   "source": [
    "# Training function with tqdm\n",
    "# Training function\n",
    "def train():\n",
    "    model.train()\n",
    "    total_loss, total_correct = 0, 0\n",
    "    for inputs, attention_mask, labels in train_loader:\n",
    "        inputs, attention_mask, labels = inputs.to(device), attention_mask.to(device), labels.to(device)\n",
    "        optimizer.zero_grad()\n",
    "        outputs = model(inputs, attention_mask=attention_mask, labels=labels)\n",
    "        loss = criterion(outputs.logits, labels)\n",
    "        loss.backward()\n",
    "        optimizer.step()\n",
    "        total_loss += loss.item()\n",
    "        total_correct += (outputs.logits.argmax(dim=1) == labels).sum().item()\n",
    "    avg_loss = total_loss / len(train_loader)\n",
    "    accuracy = total_correct / len(train_loader.dataset)\n",
    "    return avg_loss, accuracy\n",
    "\n",
    "\n",
    "# Evaluation function with tqdm\n",
    "def evaluate():\n",
    "    model.eval()\n",
    "    total_loss, total_correct = 0, 0\n",
    "    with torch.no_grad():\n",
    "        for inputs, attention_mask, labels in val_loader:\n",
    "            inputs, attention_mask, labels = inputs.to(device), attention_mask.to(device), labels.to(device)\n",
    "            outputs = model(inputs, attention_mask=attention_mask, labels=labels)\n",
    "            loss = criterion(outputs.logits, labels)\n",
    "            total_loss += loss.item()\n",
    "            total_correct += (outputs.logits.argmax(dim=1) == labels).sum().item()\n",
    "    avg_loss = total_loss / len(val_loader)\n",
    "    accuracy = total_correct / len(val_loader.dataset)\n",
    "    return avg_loss, accuracy\n",
    "   "
   ]
  },
  {
   "cell_type": "code",
   "execution_count": 26,
   "id": "97a3852e-8c9e-46d4-bbd7-d2b402f97cea",
   "metadata": {},
   "outputs": [
    {
     "name": "stderr",
     "output_type": "stream",
     "text": [
      "Epoch:   0%|                                                                                     | 0/5 [00:00<?, ?it/s]"
     ]
    },
    {
     "name": "stdout",
     "output_type": "stream",
     "text": [
      "\n",
      "....... Epoch 1 / 5 .......\n"
     ]
    },
    {
     "name": "stderr",
     "output_type": "stream",
     "text": [
      "Epoch:  20%|██████████████▏                                                        | 1/5 [1:15:29<5:01:58, 4529.51s/it]"
     ]
    },
    {
     "name": "stdout",
     "output_type": "stream",
     "text": [
      "\n",
      "Training Loss: 0.216, Training Accuracy: 0.916\n",
      "Validation Loss: 0.213, Validation Accuracy: 0.917\n",
      "\n",
      "....... Epoch 2 / 5 .......\n"
     ]
    },
    {
     "name": "stderr",
     "output_type": "stream",
     "text": [
      "Epoch:  40%|████████████████████████████▍                                          | 2/5 [3:39:43<5:47:46, 6955.49s/it]"
     ]
    },
    {
     "name": "stdout",
     "output_type": "stream",
     "text": [
      "\n",
      "Training Loss: 0.123, Training Accuracy: 0.957\n",
      "Validation Loss: 0.200, Validation Accuracy: 0.927\n",
      "\n",
      "....... Epoch 3 / 5 .......\n"
     ]
    },
    {
     "name": "stderr",
     "output_type": "stream",
     "text": [
      "Epoch:  60%|██████████████████████████████████████████▌                            | 3/5 [5:12:01<3:30:16, 6308.25s/it]"
     ]
    },
    {
     "name": "stdout",
     "output_type": "stream",
     "text": [
      "\n",
      "Training Loss: 0.062, Training Accuracy: 0.980\n",
      "Validation Loss: 0.247, Validation Accuracy: 0.929\n",
      "\n",
      "....... Epoch 4 / 5 .......\n"
     ]
    },
    {
     "name": "stderr",
     "output_type": "stream",
     "text": [
      "Epoch:  80%|████████████████████████████████████████████████████████▊              | 4/5 [5:58:44<1:22:04, 4924.54s/it]"
     ]
    },
    {
     "name": "stdout",
     "output_type": "stream",
     "text": [
      "\n",
      "Training Loss: 0.040, Training Accuracy: 0.987\n",
      "Validation Loss: 0.277, Validation Accuracy: 0.926\n",
      "\n",
      "....... Epoch 5 / 5 .......\n"
     ]
    },
    {
     "name": "stderr",
     "output_type": "stream",
     "text": [
      "Epoch: 100%|█████████████████████████████████████████████████████████████████████████| 5/5 [6:45:27<00:00, 4865.57s/it]"
     ]
    },
    {
     "name": "stdout",
     "output_type": "stream",
     "text": [
      "\n",
      "Training Loss: 0.030, Training Accuracy: 0.990\n",
      "Validation Loss: 0.309, Validation Accuracy: 0.924\n",
      "\n",
      "Training complete!\n"
     ]
    },
    {
     "name": "stderr",
     "output_type": "stream",
     "text": [
      "\n"
     ]
    }
   ],
   "source": [
    "# Training loop\n",
    "epochs = 5\n",
    "best_valid_loss = float('inf')\n",
    "train_losses = []\n",
    "valid_losses = []\n",
    "train_accuracies = []\n",
    "valid_accuracies = []\n",
    "\n",
    "for epoch in tqdm(range(epochs), desc=\"Epoch\"):\n",
    "    print(f'\\n....... Epoch {epoch + 1} / {epochs} .......')\n",
    "    train_loss, train_acc = train()\n",
    "    valid_loss, val_acc = evaluate()\n",
    "\n",
    "    if valid_loss < best_valid_loss:\n",
    "        best_valid_loss = valid_loss\n",
    "        torch.save(model.state_dict(), 'saved_weights.pt')\n",
    "\n",
    "    train_losses.append(train_loss)\n",
    "    valid_losses.append(valid_loss)\n",
    "    train_accuracies.append(train_acc)\n",
    "    valid_accuracies.append(val_acc)\n",
    "\n",
    "    print(f'\\nTraining Loss: {train_loss:.3f}, Training Accuracy: {train_acc:.3f}')\n",
    "    print(f'Validation Loss: {valid_loss:.3f}, Validation Accuracy: {val_acc:.3f}')\n",
    "\n",
    "print(\"\\nTraining complete!\")"
   ]
  },
  {
   "cell_type": "code",
   "execution_count": 28,
   "id": "ea949faa-da46-426a-93a3-ac1962d22a47",
   "metadata": {},
   "outputs": [
    {
     "data": {
      "image/png": "[encoded data removed]",
      "text/plain": [
       "<Figure size 1500x800 with 1 Axes>"
      ]
     },
     "metadata": {},
     "output_type": "display_data"
    }
   ],
   "source": [
    "# Plot the training and validation loss\n",
    "import matplotlib.pyplot as plt\n",
    "plt.figure(figsize=(15, 8))\n",
    "plt.title(\"Training and Validation Loss\")\n",
    "plt.xlabel(\"Epoch\")\n",
    "plt.ylabel(\"Loss\")\n",
    "plt.plot(train_losses, label=\"Train\")\n",
    "plt.plot(valid_losses, label=\"Validation\")\n",
    "plt.legend()\n",
    "plt.show()"
   ]
  },
  {
   "cell_type": "code",
   "execution_count": 29,
   "id": "224cf490-4623-4384-95de-81e9a019c3f8",
   "metadata": {},
   "outputs": [
    {
     "data": {
      "image/png": "[encoded data removed]",
      "text/plain": [
       "<Figure size 1500x800 with 1 Axes>"
      ]
     },
     "metadata": {},
     "output_type": "display_data"
    }
   ],
   "source": [
    "# Plot the training and validation accuracy\n",
    "plt.figure(figsize=(15, 8))\n",
    "plt.title(\"Training and Validation Accuracy\")\n",
    "plt.xlabel(\"Epoch\")\n",
    "plt.ylabel(\"Accuracy\")\n",
    "plt.plot(train_accuracies, label=\"Train\")\n",
    "plt.plot(valid_accuracies, label=\"Validation\")\n",
    "plt.legend()\n",
    "plt.show()"
   ]
  },
  {
   "cell_type": "code",
   "execution_count": 33,
   "id": "0ac99a76-cf6c-4ecf-87d0-4dfbe0cfffba",
   "metadata": {},
   "outputs": [
    {
     "name": "stderr",
     "output_type": "stream",
     "text": [
      "Some weights of BertForSequenceClassification were not initialized from the model checkpoint at bert-base-uncased and are newly initialized: ['classifier.bias', 'classifier.weight']\n",
      "You should probably TRAIN this model on a down-stream task to be able to use it for predictions and inference.\n"
     ]
    },
    {
     "name": "stdout",
     "output_type": "stream",
     "text": [
      "Review: This is not a fantastic movie!\n",
      "Sentiment: Negative\n"
     ]
    }
   ],
   "source": [
    "import torch\n",
    "from transformers import BertTokenizer, BertForNextSentencePrediction\n",
    "\n",
    "# load pre-trained BERT tokenizer\n",
    "tokenizer = BertTokenizer.from_pretrained(\"bert-base-uncased\")\n",
    "\n",
    "# Define the model architecture and load saved weights\n",
    "model = BertForSequenceClassification.from_pretrained('bert-base-uncased', num_labels = 2)\n",
    "model.load_state_dict(torch.load('saved_weights.pt',map_location=torch.device('cpu')))\n",
    "\n",
    "# Ensure the model is in evaluation mode\n",
    "model.eval()\n",
    "\n",
    "def predict_review(text):\n",
    "    # Preprocess the input text\n",
    "    inputs = tokenizer.encode_plus(\n",
    "        text,\n",
    "        add_special_tokens=True,\n",
    "        max_length = 128,\n",
    "        truncation=True,\n",
    "        padding='max_length',\n",
    "        return_tensors='pt')\n",
    "\n",
    "    # Get the model's predictions\n",
    "    with torch.no_grad():\n",
    "        outputs = model(**inputs)\n",
    "        logits = outputs.logits\n",
    "\n",
    "     # Interpret the predictions\n",
    "    probabilities = torch.nn.functional.softmax(logits, dim=1)\n",
    "    predicted_class = torch.argmax(probabilities, dim=1)\n",
    "    return 'Positive' if predicted_class.item() == 1 else 'Negative'\n",
    "\n",
    "# Example usage\n",
    "review_text = \"This is not a fantastic movie!\"\n",
    "prediction = predict_review(review_text)\n",
    "print(f\"Review: {review_text}\\nSentiment: {prediction}\")        \n",
    "    "
   ]
  },
  {
   "cell_type": "code",
   "execution_count": null,
   "id": "e6b8e0eb-085b-44a1-8f42-974f82a4bdf5",
   "metadata": {},
   "outputs": [],
   "source": []
  }
 ],
 "metadata": {
  "kernelspec": {
   "display_name": "transformer",
   "language": "python",
   "name": "transformer"
  },
  "language_info": {
   "codemirror_mode": {
    "name": "ipython",
    "version": 3
   },
   "file_extension": ".py",
   "mimetype": "text/x-python",
   "name": "python",
   "nbconvert_exporter": "python",
   "pygments_lexer": "ipython3",
   "version": "3.9.19"
  }
 },
 "nbformat": 4,
 "nbformat_minor": 5
}
